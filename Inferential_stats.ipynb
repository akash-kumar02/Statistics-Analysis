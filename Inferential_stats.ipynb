{
  "nbformat": 4,
  "nbformat_minor": 0,
  "metadata": {
    "colab": {
      "provenance": []
    },
    "kernelspec": {
      "name": "python3",
      "display_name": "Python 3"
    },
    "language_info": {
      "name": "python"
    }
  },
  "cells": [
    {
      "cell_type": "code",
      "execution_count": null,
      "metadata": {
        "id": "MnQylW39i2X8"
      },
      "outputs": [],
      "source": [
        "import pandas as pd\n",
        "import numpy as np"
      ]
    },
    {
      "cell_type": "code",
      "source": [
        "df=pd.read_csv(\"diabetes.csv\")"
      ],
      "metadata": {
        "id": "Ln9yhqucjGUy"
      },
      "execution_count": null,
      "outputs": []
    },
    {
      "cell_type": "code",
      "source": [
        "df.head()"
      ],
      "metadata": {
        "colab": {
          "base_uri": "https://localhost:8080/",
          "height": 206
        },
        "id": "VUQF79oAjauT",
        "outputId": "1f9d4bc8-4fdf-4c4e-f384-58d2faf40665"
      },
      "execution_count": null,
      "outputs": [
        {
          "output_type": "execute_result",
          "data": {
            "text/plain": [
              "   Pregnancies  Glucose  BloodPressure  SkinThickness  Insulin   BMI  \\\n",
              "0            6      148             72             35        0  33.6   \n",
              "1            1       85             66             29        0  26.6   \n",
              "2            8      183             64              0        0  23.3   \n",
              "3            1       89             66             23       94  28.1   \n",
              "4            0      137             40             35      168  43.1   \n",
              "\n",
              "   DiabetesPedigreeFunction  Age  Outcome  \n",
              "0                     0.627   50        1  \n",
              "1                     0.351   31        0  \n",
              "2                     0.672   32        1  \n",
              "3                     0.167   21        0  \n",
              "4                     2.288   33        1  "
            ],
            "text/html": [
              "\n",
              "  <div id=\"df-224842bc-854e-48d2-8462-3a8b5b24ebd6\" class=\"colab-df-container\">\n",
              "    <div>\n",
              "<style scoped>\n",
              "    .dataframe tbody tr th:only-of-type {\n",
              "        vertical-align: middle;\n",
              "    }\n",
              "\n",
              "    .dataframe tbody tr th {\n",
              "        vertical-align: top;\n",
              "    }\n",
              "\n",
              "    .dataframe thead th {\n",
              "        text-align: right;\n",
              "    }\n",
              "</style>\n",
              "<table border=\"1\" class=\"dataframe\">\n",
              "  <thead>\n",
              "    <tr style=\"text-align: right;\">\n",
              "      <th></th>\n",
              "      <th>Pregnancies</th>\n",
              "      <th>Glucose</th>\n",
              "      <th>BloodPressure</th>\n",
              "      <th>SkinThickness</th>\n",
              "      <th>Insulin</th>\n",
              "      <th>BMI</th>\n",
              "      <th>DiabetesPedigreeFunction</th>\n",
              "      <th>Age</th>\n",
              "      <th>Outcome</th>\n",
              "    </tr>\n",
              "  </thead>\n",
              "  <tbody>\n",
              "    <tr>\n",
              "      <th>0</th>\n",
              "      <td>6</td>\n",
              "      <td>148</td>\n",
              "      <td>72</td>\n",
              "      <td>35</td>\n",
              "      <td>0</td>\n",
              "      <td>33.6</td>\n",
              "      <td>0.627</td>\n",
              "      <td>50</td>\n",
              "      <td>1</td>\n",
              "    </tr>\n",
              "    <tr>\n",
              "      <th>1</th>\n",
              "      <td>1</td>\n",
              "      <td>85</td>\n",
              "      <td>66</td>\n",
              "      <td>29</td>\n",
              "      <td>0</td>\n",
              "      <td>26.6</td>\n",
              "      <td>0.351</td>\n",
              "      <td>31</td>\n",
              "      <td>0</td>\n",
              "    </tr>\n",
              "    <tr>\n",
              "      <th>2</th>\n",
              "      <td>8</td>\n",
              "      <td>183</td>\n",
              "      <td>64</td>\n",
              "      <td>0</td>\n",
              "      <td>0</td>\n",
              "      <td>23.3</td>\n",
              "      <td>0.672</td>\n",
              "      <td>32</td>\n",
              "      <td>1</td>\n",
              "    </tr>\n",
              "    <tr>\n",
              "      <th>3</th>\n",
              "      <td>1</td>\n",
              "      <td>89</td>\n",
              "      <td>66</td>\n",
              "      <td>23</td>\n",
              "      <td>94</td>\n",
              "      <td>28.1</td>\n",
              "      <td>0.167</td>\n",
              "      <td>21</td>\n",
              "      <td>0</td>\n",
              "    </tr>\n",
              "    <tr>\n",
              "      <th>4</th>\n",
              "      <td>0</td>\n",
              "      <td>137</td>\n",
              "      <td>40</td>\n",
              "      <td>35</td>\n",
              "      <td>168</td>\n",
              "      <td>43.1</td>\n",
              "      <td>2.288</td>\n",
              "      <td>33</td>\n",
              "      <td>1</td>\n",
              "    </tr>\n",
              "  </tbody>\n",
              "</table>\n",
              "</div>\n",
              "    <div class=\"colab-df-buttons\">\n",
              "\n",
              "  <div class=\"colab-df-container\">\n",
              "    <button class=\"colab-df-convert\" onclick=\"convertToInteractive('df-224842bc-854e-48d2-8462-3a8b5b24ebd6')\"\n",
              "            title=\"Convert this dataframe to an interactive table.\"\n",
              "            style=\"display:none;\">\n",
              "\n",
              "  <svg xmlns=\"http://www.w3.org/2000/svg\" height=\"24px\" viewBox=\"0 -960 960 960\">\n",
              "    <path d=\"M120-120v-720h720v720H120Zm60-500h600v-160H180v160Zm220 220h160v-160H400v160Zm0 220h160v-160H400v160ZM180-400h160v-160H180v160Zm440 0h160v-160H620v160ZM180-180h160v-160H180v160Zm440 0h160v-160H620v160Z\"/>\n",
              "  </svg>\n",
              "    </button>\n",
              "\n",
              "  <style>\n",
              "    .colab-df-container {\n",
              "      display:flex;\n",
              "      gap: 12px;\n",
              "    }\n",
              "\n",
              "    .colab-df-convert {\n",
              "      background-color: #E8F0FE;\n",
              "      border: none;\n",
              "      border-radius: 50%;\n",
              "      cursor: pointer;\n",
              "      display: none;\n",
              "      fill: #1967D2;\n",
              "      height: 32px;\n",
              "      padding: 0 0 0 0;\n",
              "      width: 32px;\n",
              "    }\n",
              "\n",
              "    .colab-df-convert:hover {\n",
              "      background-color: #E2EBFA;\n",
              "      box-shadow: 0px 1px 2px rgba(60, 64, 67, 0.3), 0px 1px 3px 1px rgba(60, 64, 67, 0.15);\n",
              "      fill: #174EA6;\n",
              "    }\n",
              "\n",
              "    .colab-df-buttons div {\n",
              "      margin-bottom: 4px;\n",
              "    }\n",
              "\n",
              "    [theme=dark] .colab-df-convert {\n",
              "      background-color: #3B4455;\n",
              "      fill: #D2E3FC;\n",
              "    }\n",
              "\n",
              "    [theme=dark] .colab-df-convert:hover {\n",
              "      background-color: #434B5C;\n",
              "      box-shadow: 0px 1px 3px 1px rgba(0, 0, 0, 0.15);\n",
              "      filter: drop-shadow(0px 1px 2px rgba(0, 0, 0, 0.3));\n",
              "      fill: #FFFFFF;\n",
              "    }\n",
              "  </style>\n",
              "\n",
              "    <script>\n",
              "      const buttonEl =\n",
              "        document.querySelector('#df-224842bc-854e-48d2-8462-3a8b5b24ebd6 button.colab-df-convert');\n",
              "      buttonEl.style.display =\n",
              "        google.colab.kernel.accessAllowed ? 'block' : 'none';\n",
              "\n",
              "      async function convertToInteractive(key) {\n",
              "        const element = document.querySelector('#df-224842bc-854e-48d2-8462-3a8b5b24ebd6');\n",
              "        const dataTable =\n",
              "          await google.colab.kernel.invokeFunction('convertToInteractive',\n",
              "                                                    [key], {});\n",
              "        if (!dataTable) return;\n",
              "\n",
              "        const docLinkHtml = 'Like what you see? Visit the ' +\n",
              "          '<a target=\"_blank\" href=https://colab.research.google.com/notebooks/data_table.ipynb>data table notebook</a>'\n",
              "          + ' to learn more about interactive tables.';\n",
              "        element.innerHTML = '';\n",
              "        dataTable['output_type'] = 'display_data';\n",
              "        await google.colab.output.renderOutput(dataTable, element);\n",
              "        const docLink = document.createElement('div');\n",
              "        docLink.innerHTML = docLinkHtml;\n",
              "        element.appendChild(docLink);\n",
              "      }\n",
              "    </script>\n",
              "  </div>\n",
              "\n",
              "\n",
              "<div id=\"df-623d35ae-12e0-4fe6-a0a7-9315af5139e0\">\n",
              "  <button class=\"colab-df-quickchart\" onclick=\"quickchart('df-623d35ae-12e0-4fe6-a0a7-9315af5139e0')\"\n",
              "            title=\"Suggest charts\"\n",
              "            style=\"display:none;\">\n",
              "\n",
              "<svg xmlns=\"http://www.w3.org/2000/svg\" height=\"24px\"viewBox=\"0 0 24 24\"\n",
              "     width=\"24px\">\n",
              "    <g>\n",
              "        <path d=\"M19 3H5c-1.1 0-2 .9-2 2v14c0 1.1.9 2 2 2h14c1.1 0 2-.9 2-2V5c0-1.1-.9-2-2-2zM9 17H7v-7h2v7zm4 0h-2V7h2v10zm4 0h-2v-4h2v4z\"/>\n",
              "    </g>\n",
              "</svg>\n",
              "  </button>\n",
              "\n",
              "<style>\n",
              "  .colab-df-quickchart {\n",
              "      --bg-color: #E8F0FE;\n",
              "      --fill-color: #1967D2;\n",
              "      --hover-bg-color: #E2EBFA;\n",
              "      --hover-fill-color: #174EA6;\n",
              "      --disabled-fill-color: #AAA;\n",
              "      --disabled-bg-color: #DDD;\n",
              "  }\n",
              "\n",
              "  [theme=dark] .colab-df-quickchart {\n",
              "      --bg-color: #3B4455;\n",
              "      --fill-color: #D2E3FC;\n",
              "      --hover-bg-color: #434B5C;\n",
              "      --hover-fill-color: #FFFFFF;\n",
              "      --disabled-bg-color: #3B4455;\n",
              "      --disabled-fill-color: #666;\n",
              "  }\n",
              "\n",
              "  .colab-df-quickchart {\n",
              "    background-color: var(--bg-color);\n",
              "    border: none;\n",
              "    border-radius: 50%;\n",
              "    cursor: pointer;\n",
              "    display: none;\n",
              "    fill: var(--fill-color);\n",
              "    height: 32px;\n",
              "    padding: 0;\n",
              "    width: 32px;\n",
              "  }\n",
              "\n",
              "  .colab-df-quickchart:hover {\n",
              "    background-color: var(--hover-bg-color);\n",
              "    box-shadow: 0 1px 2px rgba(60, 64, 67, 0.3), 0 1px 3px 1px rgba(60, 64, 67, 0.15);\n",
              "    fill: var(--button-hover-fill-color);\n",
              "  }\n",
              "\n",
              "  .colab-df-quickchart-complete:disabled,\n",
              "  .colab-df-quickchart-complete:disabled:hover {\n",
              "    background-color: var(--disabled-bg-color);\n",
              "    fill: var(--disabled-fill-color);\n",
              "    box-shadow: none;\n",
              "  }\n",
              "\n",
              "  .colab-df-spinner {\n",
              "    border: 2px solid var(--fill-color);\n",
              "    border-color: transparent;\n",
              "    border-bottom-color: var(--fill-color);\n",
              "    animation:\n",
              "      spin 1s steps(1) infinite;\n",
              "  }\n",
              "\n",
              "  @keyframes spin {\n",
              "    0% {\n",
              "      border-color: transparent;\n",
              "      border-bottom-color: var(--fill-color);\n",
              "      border-left-color: var(--fill-color);\n",
              "    }\n",
              "    20% {\n",
              "      border-color: transparent;\n",
              "      border-left-color: var(--fill-color);\n",
              "      border-top-color: var(--fill-color);\n",
              "    }\n",
              "    30% {\n",
              "      border-color: transparent;\n",
              "      border-left-color: var(--fill-color);\n",
              "      border-top-color: var(--fill-color);\n",
              "      border-right-color: var(--fill-color);\n",
              "    }\n",
              "    40% {\n",
              "      border-color: transparent;\n",
              "      border-right-color: var(--fill-color);\n",
              "      border-top-color: var(--fill-color);\n",
              "    }\n",
              "    60% {\n",
              "      border-color: transparent;\n",
              "      border-right-color: var(--fill-color);\n",
              "    }\n",
              "    80% {\n",
              "      border-color: transparent;\n",
              "      border-right-color: var(--fill-color);\n",
              "      border-bottom-color: var(--fill-color);\n",
              "    }\n",
              "    90% {\n",
              "      border-color: transparent;\n",
              "      border-bottom-color: var(--fill-color);\n",
              "    }\n",
              "  }\n",
              "</style>\n",
              "\n",
              "  <script>\n",
              "    async function quickchart(key) {\n",
              "      const quickchartButtonEl =\n",
              "        document.querySelector('#' + key + ' button');\n",
              "      quickchartButtonEl.disabled = true;  // To prevent multiple clicks.\n",
              "      quickchartButtonEl.classList.add('colab-df-spinner');\n",
              "      try {\n",
              "        const charts = await google.colab.kernel.invokeFunction(\n",
              "            'suggestCharts', [key], {});\n",
              "      } catch (error) {\n",
              "        console.error('Error during call to suggestCharts:', error);\n",
              "      }\n",
              "      quickchartButtonEl.classList.remove('colab-df-spinner');\n",
              "      quickchartButtonEl.classList.add('colab-df-quickchart-complete');\n",
              "    }\n",
              "    (() => {\n",
              "      let quickchartButtonEl =\n",
              "        document.querySelector('#df-623d35ae-12e0-4fe6-a0a7-9315af5139e0 button');\n",
              "      quickchartButtonEl.style.display =\n",
              "        google.colab.kernel.accessAllowed ? 'block' : 'none';\n",
              "    })();\n",
              "  </script>\n",
              "</div>\n",
              "\n",
              "    </div>\n",
              "  </div>\n"
            ],
            "application/vnd.google.colaboratory.intrinsic+json": {
              "type": "dataframe",
              "variable_name": "df",
              "summary": "{\n  \"name\": \"df\",\n  \"rows\": 768,\n  \"fields\": [\n    {\n      \"column\": \"Pregnancies\",\n      \"properties\": {\n        \"dtype\": \"number\",\n        \"std\": 3,\n        \"min\": 0,\n        \"max\": 17,\n        \"num_unique_values\": 17,\n        \"samples\": [\n          6,\n          1,\n          3\n        ],\n        \"semantic_type\": \"\",\n        \"description\": \"\"\n      }\n    },\n    {\n      \"column\": \"Glucose\",\n      \"properties\": {\n        \"dtype\": \"number\",\n        \"std\": 31,\n        \"min\": 0,\n        \"max\": 199,\n        \"num_unique_values\": 136,\n        \"samples\": [\n          151,\n          101,\n          112\n        ],\n        \"semantic_type\": \"\",\n        \"description\": \"\"\n      }\n    },\n    {\n      \"column\": \"BloodPressure\",\n      \"properties\": {\n        \"dtype\": \"number\",\n        \"std\": 19,\n        \"min\": 0,\n        \"max\": 122,\n        \"num_unique_values\": 47,\n        \"samples\": [\n          86,\n          46,\n          85\n        ],\n        \"semantic_type\": \"\",\n        \"description\": \"\"\n      }\n    },\n    {\n      \"column\": \"SkinThickness\",\n      \"properties\": {\n        \"dtype\": \"number\",\n        \"std\": 15,\n        \"min\": 0,\n        \"max\": 99,\n        \"num_unique_values\": 51,\n        \"samples\": [\n          7,\n          12,\n          48\n        ],\n        \"semantic_type\": \"\",\n        \"description\": \"\"\n      }\n    },\n    {\n      \"column\": \"Insulin\",\n      \"properties\": {\n        \"dtype\": \"number\",\n        \"std\": 115,\n        \"min\": 0,\n        \"max\": 846,\n        \"num_unique_values\": 186,\n        \"samples\": [\n          52,\n          41,\n          183\n        ],\n        \"semantic_type\": \"\",\n        \"description\": \"\"\n      }\n    },\n    {\n      \"column\": \"BMI\",\n      \"properties\": {\n        \"dtype\": \"number\",\n        \"std\": 7.8841603203754405,\n        \"min\": 0.0,\n        \"max\": 67.1,\n        \"num_unique_values\": 248,\n        \"samples\": [\n          19.9,\n          31.0,\n          38.1\n        ],\n        \"semantic_type\": \"\",\n        \"description\": \"\"\n      }\n    },\n    {\n      \"column\": \"DiabetesPedigreeFunction\",\n      \"properties\": {\n        \"dtype\": \"number\",\n        \"std\": 0.33132859501277484,\n        \"min\": 0.078,\n        \"max\": 2.42,\n        \"num_unique_values\": 517,\n        \"samples\": [\n          1.731,\n          0.426,\n          0.138\n        ],\n        \"semantic_type\": \"\",\n        \"description\": \"\"\n      }\n    },\n    {\n      \"column\": \"Age\",\n      \"properties\": {\n        \"dtype\": \"number\",\n        \"std\": 11,\n        \"min\": 21,\n        \"max\": 81,\n        \"num_unique_values\": 52,\n        \"samples\": [\n          60,\n          47,\n          72\n        ],\n        \"semantic_type\": \"\",\n        \"description\": \"\"\n      }\n    },\n    {\n      \"column\": \"Outcome\",\n      \"properties\": {\n        \"dtype\": \"number\",\n        \"std\": 0,\n        \"min\": 0,\n        \"max\": 1,\n        \"num_unique_values\": 2,\n        \"samples\": [\n          0,\n          1\n        ],\n        \"semantic_type\": \"\",\n        \"description\": \"\"\n      }\n    }\n  ]\n}"
            }
          },
          "metadata": {},
          "execution_count": 9
        }
      ]
    },
    {
      "cell_type": "code",
      "source": [
        "df1=df[\"Pregnancies\"]\n",
        "df2=df[\"Glucose\"]\n",
        "df3=df[\"BloodPressure\"]\n",
        "df4=df[\"SkinThickness\"]\n",
        "df5=df[\"Insulin\"]\n",
        "df6=df[\"BMI\"]\n",
        "df7=df[\"DiabetesPedigreeFunction\"]\n",
        "df8=df[\"Age\"]\n",
        "df9=df[\"Outcome\"]"
      ],
      "metadata": {
        "id": "5o3TYKglngV_"
      },
      "execution_count": null,
      "outputs": []
    },
    {
      "cell_type": "code",
      "source": [
        "from scipy.stats import shapiro\n",
        "\n",
        "\n",
        "stat,p=shapiro(df[\"Pregnancies\"])\n",
        "\n",
        "\n",
        "\n",
        "print(\"shapiro-wilk test statistic:\",stat)\n",
        "print(\"p-value:\",p)\n",
        "if p>0.05:\n",
        "  print(\"the salary is normally distributed(accepted Ho)\")\n",
        "else:\n",
        "  print(\"the salary is not normally distributed(reject Ho)\")"
      ],
      "metadata": {
        "colab": {
          "base_uri": "https://localhost:8080/"
        },
        "id": "IDvrAY4AjhWg",
        "outputId": "803a3df4-169c-4f1c-e0f4-9123bd261a1b"
      },
      "execution_count": null,
      "outputs": [
        {
          "output_type": "stream",
          "name": "stdout",
          "text": [
            "shapiro-wilk test statistic: 0.9042812714701655\n",
            "p-value: 1.6092572358874225e-21\n",
            "the salary is not normally distributed(reject Ho)\n"
          ]
        }
      ]
    },
    {
      "cell_type": "code",
      "source": [
        "\n",
        "stat,p=shapiro(df[\"Glucose\"])\n",
        "\n",
        "print(\"shapiro-wilk test statistic:\",stat)\n",
        "print(\"p-value:\",p)\n",
        "if p>0.05:\n",
        "  print(\"the salary is normally distributed(accepted Ho)\")\n",
        "else:\n",
        "  print(\"the salary is not normally distributed(reject Ho)\")"
      ],
      "metadata": {
        "colab": {
          "base_uri": "https://localhost:8080/"
        },
        "id": "lp7Dk8ERj_Yl",
        "outputId": "40c0e7bd-fc66-4608-b4f7-f446437938d0"
      },
      "execution_count": null,
      "outputs": [
        {
          "output_type": "stream",
          "name": "stdout",
          "text": [
            "shapiro-wilk test statistic: 0.9701038379391942\n",
            "p-value: 1.9863474999979633e-11\n",
            "the salary is not normally distributed(reject Ho)\n"
          ]
        }
      ]
    },
    {
      "cell_type": "code",
      "source": [
        "\n",
        "stat,p=shapiro(df[\"BloodPressure\"])\n",
        "\n",
        "\n",
        "print(\"shapiro-wilk test statistic:\",stat)\n",
        "print(\"p-value:\",p)\n",
        "if p>0.05:\n",
        "  print(\"the salary is normally distributed(accepted Ho)\")\n",
        "else:\n",
        "  print(\"the salary is not normally distributed(reject Ho)\")"
      ],
      "metadata": {
        "colab": {
          "base_uri": "https://localhost:8080/"
        },
        "id": "3T6KkHimksmy",
        "outputId": "871ba19b-48d6-4eb4-f9d2-ff3fd093090b"
      },
      "execution_count": null,
      "outputs": [
        {
          "output_type": "stream",
          "name": "stdout",
          "text": [
            "shapiro-wilk test statistic: 0.8189219237862853\n",
            "p-value: 1.5841623290215717e-28\n",
            "the salary is not normally distributed(reject Ho)\n"
          ]
        }
      ]
    },
    {
      "cell_type": "code",
      "source": [
        "\n",
        "stat,p=shapiro(df[\"SkinThickness\"])\n",
        "\n",
        "\n",
        "\n",
        "print(\"shapiro-wilk test statistic:\",stat)\n",
        "print(\"p-value:\",p)\n",
        "if p>0.05:\n",
        "  print(\"the salary is normally distributed(accepted Ho)\")\n",
        "else:\n",
        "  print(\"the salary is not normally distributed(reject Ho)\")"
      ],
      "metadata": {
        "colab": {
          "base_uri": "https://localhost:8080/"
        },
        "id": "2Z2mAtHNk2bl",
        "outputId": "44417338-30f2-4591-f6ec-0e8656efb0ae"
      },
      "execution_count": null,
      "outputs": [
        {
          "output_type": "stream",
          "name": "stdout",
          "text": [
            "shapiro-wilk test statistic: 0.9046276684527169\n",
            "p-value: 1.751754164091415e-21\n",
            "the salary is not normally distributed(reject Ho)\n"
          ]
        }
      ]
    },
    {
      "cell_type": "code",
      "source": [
        "\n",
        "stat,p=shapiro(df[\"Insulin\"])\n",
        "print(\"shapiro-wilk test statistic:\",stat)\n",
        "print(\"p-value:\",p)\n",
        "if p>0.05:\n",
        "  print(\"the salary is normally distributed(accepted Ho)\")\n",
        "else:\n",
        "  print(\"the salary is not normally distributed(reject Ho)\")"
      ],
      "metadata": {
        "colab": {
          "base_uri": "https://localhost:8080/"
        },
        "id": "nSyJsq-klCDM",
        "outputId": "55209542-af23-4f36-b06a-654b9be49772"
      },
      "execution_count": null,
      "outputs": [
        {
          "output_type": "stream",
          "name": "stdout",
          "text": [
            "shapiro-wilk test statistic: 0.7220197296631021\n",
            "p-value: 7.914331939766787e-34\n",
            "the salary is not normally distributed(reject Ho)\n"
          ]
        }
      ]
    },
    {
      "cell_type": "code",
      "source": [
        "stat,p=shapiro(df[\"BMI\"])\n",
        "print(\"shapiro-wilk test statistic:\",stat)\n",
        "print(\"p-value:\",p)\n",
        "if p>0.05:\n",
        "  print(\"the salary is normally distributed(accepted Ho)\")\n",
        "else:\n",
        "  print(\"the salary is not normally distributed(reject Ho)\")"
      ],
      "metadata": {
        "colab": {
          "base_uri": "https://localhost:8080/"
        },
        "id": "kzpWF8_VlOrX",
        "outputId": "2992893e-eb7d-40d3-f8e0-9dc0fe6324b2"
      },
      "execution_count": null,
      "outputs": [
        {
          "output_type": "stream",
          "name": "stdout",
          "text": [
            "shapiro-wilk test statistic: 0.9499902687524108\n",
            "p-value: 1.8416516138516335e-15\n",
            "the salary is not normally distributed(reject Ho)\n"
          ]
        }
      ]
    },
    {
      "cell_type": "code",
      "source": [
        "stat,p=shapiro(df[\"DiabetesPedigreeFunction\"])\n",
        "print(\"shapiro-wilk test statistic:\",stat)\n",
        "print(\"p-value:\",p)\n",
        "if p>0.05:\n",
        "  print(\"the salary is normally distributed(accepted Ho)\")\n",
        "else:\n",
        "  print(\"the salary is not normally distributed(reject Ho)\")"
      ],
      "metadata": {
        "colab": {
          "base_uri": "https://localhost:8080/"
        },
        "id": "CNIsYPn6lYaU",
        "outputId": "6ac6b6f4-9580-48ab-f04f-596c7cc1b4c7"
      },
      "execution_count": null,
      "outputs": [
        {
          "output_type": "stream",
          "name": "stdout",
          "text": [
            "shapiro-wilk test statistic: 0.8365181321396535\n",
            "p-value: 2.477505530854268e-27\n",
            "the salary is not normally distributed(reject Ho)\n"
          ]
        }
      ]
    },
    {
      "cell_type": "code",
      "source": [
        "stat,p=shapiro(df[\"Age\"])\n",
        "print(\"shapiro-wilk test statistic:\",stat)\n",
        "print(\"p-value:\",p)\n",
        "if p>0.05:\n",
        "  print(\"the salary is normally distributed(accepted Ho)\")\n",
        "else:\n",
        "  print(\"the salary is not normally distributed(reject Ho)\")"
      ],
      "metadata": {
        "colab": {
          "base_uri": "https://localhost:8080/"
        },
        "id": "wsysTuDHlfAA",
        "outputId": "b39a8ca2-829c-414c-c8a5-d4df331bf408"
      },
      "execution_count": null,
      "outputs": [
        {
          "output_type": "stream",
          "name": "stdout",
          "text": [
            "shapiro-wilk test statistic: 0.8747668643940426\n",
            "p-value: 2.4022741290400888e-24\n",
            "the salary is not normally distributed(reject Ho)\n"
          ]
        }
      ]
    },
    {
      "cell_type": "code",
      "source": [
        "stat,p=shapiro(df[\"Outcome\"])\n",
        "print(\"shapiro-wilk test statistic:\",stat)\n",
        "print(\"p-value:\",p)\n",
        "if p>0.05:\n",
        "  print(\"the salary is normally distributed(accepted Ho)\")\n",
        "else:\n",
        "  print(\"the salary is not normally distributed(reject Ho)\")"
      ],
      "metadata": {
        "colab": {
          "base_uri": "https://localhost:8080/"
        },
        "id": "5kQeOv2jlrLG",
        "outputId": "6ecde946-464c-44e8-947a-48eac3d436e2"
      },
      "execution_count": null,
      "outputs": [
        {
          "output_type": "stream",
          "name": "stdout",
          "text": [
            "shapiro-wilk test statistic: 0.6025138190827578\n",
            "p-value: 1.2926899738528582e-38\n",
            "the salary is not normally distributed(reject Ho)\n"
          ]
        }
      ]
    },
    {
      "cell_type": "code",
      "source": [
        "from scipy.stats import pearsonr"
      ],
      "metadata": {
        "id": "brjhi8_3lzr9"
      },
      "execution_count": null,
      "outputs": []
    },
    {
      "cell_type": "code",
      "source": [
        "df7\n",
        "df1\n",
        "\n",
        "r,p=pearsonr(df7,df1)\n",
        "\n",
        "print(\"pearson correlation test:\")\n",
        "print(\"correlation coefficient (r):\",r)\n",
        "print(\"p-value :\",p)\n",
        "if p > 0.05:\n",
        "  print(\"correlated (accepted H0)\")\n",
        "else:\n",
        "  print(\"not correlated(accepted Ha)\")"
      ],
      "metadata": {
        "colab": {
          "base_uri": "https://localhost:8080/"
        },
        "id": "HTsAYip6m6A_",
        "outputId": "ecd8e4b3-9e73-4222-b64a-ae92fde0cebd"
      },
      "execution_count": null,
      "outputs": [
        {
          "output_type": "stream",
          "name": "stdout",
          "text": [
            "pearson correlation test:\n",
            "correlation coefficient (r): -0.033522672962613104\n",
            "p-value : 0.35353460198769926\n",
            "correlated (accepted H0)\n"
          ]
        }
      ]
    },
    {
      "cell_type": "code",
      "source": [
        "df7\n",
        "df2\n",
        "\n",
        "r,p=pearsonr(df7,df2)\n",
        "\n",
        "print(\"pearson correlation test:\")\n",
        "print(\"correlation coefficient (r):\",r)\n",
        "print(\"p-value :\",p)\n",
        "if p > 0.05:\n",
        "  print(\"correlated (accepted H0)\")\n",
        "else:\n",
        "  print(\"not correlated(accepted Ha)\")"
      ],
      "metadata": {
        "colab": {
          "base_uri": "https://localhost:8080/"
        },
        "id": "WQP4CBzmoj_P",
        "outputId": "321928b1-0048-411b-9576-6bf8a714b4fe"
      },
      "execution_count": null,
      "outputs": [
        {
          "output_type": "stream",
          "name": "stdout",
          "text": [
            "pearson correlation test:\n",
            "correlation coefficient (r): 0.1373372998283707\n",
            "p-value : 0.00013458781437157466\n",
            "not correlated(accepted Ha)\n"
          ]
        }
      ]
    },
    {
      "cell_type": "code",
      "source": [
        "df7\n",
        "df3\n",
        "\n",
        "r,p=pearsonr(df7,df3)\n",
        "\n",
        "print(\"pearson correlation test:\")\n",
        "print(\"correlation coefficient (r):\",r)\n",
        "print(\"p-value :\",p)\n",
        "if p > 0.05:\n",
        "  print(\"correlated (accepted H0)\")\n",
        "else:\n",
        "  print(\"not correlated(accepted Ha)\")"
      ],
      "metadata": {
        "colab": {
          "base_uri": "https://localhost:8080/"
        },
        "id": "JnoO_E-upak0",
        "outputId": "bd423cc2-3fd8-479e-fec2-5f305d53bc10"
      },
      "execution_count": null,
      "outputs": [
        {
          "output_type": "stream",
          "name": "stdout",
          "text": [
            "pearson correlation test:\n",
            "correlation coefficient (r): 0.041264947930098585\n",
            "p-value : 0.2533743720192343\n",
            "correlated (accepted H0)\n"
          ]
        }
      ]
    },
    {
      "cell_type": "code",
      "source": [
        "df7\n",
        "df4\n",
        "\n",
        "r,p=pearsonr(df7,df4)\n",
        "\n",
        "print(\"pearson correlation test:\")\n",
        "print(\"correlation coefficient (r):\",r)\n",
        "print(\"p-value :\",p)\n",
        "if p > 0.05:\n",
        "  print(\"correlated (accepted H0)\")\n",
        "else:\n",
        "  print(\"not correlated(accepted Ha)\")"
      ],
      "metadata": {
        "colab": {
          "base_uri": "https://localhost:8080/"
        },
        "id": "Eun01VNVpkyV",
        "outputId": "bfe2b909-5d59-486c-ec73-e0d46c36364f"
      },
      "execution_count": null,
      "outputs": [
        {
          "output_type": "stream",
          "name": "stdout",
          "text": [
            "pearson correlation test:\n",
            "correlation coefficient (r): 0.18392757295416323\n",
            "p-value : 2.8561794700267096e-07\n",
            "not correlated(accepted Ha)\n"
          ]
        }
      ]
    },
    {
      "cell_type": "code",
      "source": [
        "df7\n",
        "df5\n",
        "\n",
        "r,p=pearsonr(df7,df5)\n",
        "\n",
        "print(\"pearson correlation test:\")\n",
        "print(\"correlation coefficient (r):\",r)\n",
        "print(\"p-value :\",p)\n",
        "if p > 0.05:\n",
        "  print(\"correlated (accepted H0)\")\n",
        "else:\n",
        "  print(\"not correlated(accepted Ha)\")"
      ],
      "metadata": {
        "colab": {
          "base_uri": "https://localhost:8080/"
        },
        "id": "eOy4ONl4pn75",
        "outputId": "8ba2b3f4-169c-478d-b3ac-9616a3719dac"
      },
      "execution_count": null,
      "outputs": [
        {
          "output_type": "stream",
          "name": "stdout",
          "text": [
            "pearson correlation test:\n",
            "correlation coefficient (r): 0.18507092916809909\n",
            "p-value : 2.4022640739424854e-07\n",
            "not correlated(accepted Ha)\n"
          ]
        }
      ]
    },
    {
      "cell_type": "code",
      "source": [
        "df7\n",
        "df6\n",
        "\n",
        "r,p=pearsonr(df7,df6)\n",
        "\n",
        "print(\"pearson correlation test:\")\n",
        "print(\"correlation coefficient (r):\",r)\n",
        "print(\"p-value :\",p)\n",
        "if p > 0.05:\n",
        "  print(\"correlated (accepted H0)\")\n",
        "else:\n",
        "  print(\"not correlated(accepted Ha)\")"
      ],
      "metadata": {
        "colab": {
          "base_uri": "https://localhost:8080/"
        },
        "id": "sT837u0aprox",
        "outputId": "603e80a1-3811-4929-8fa0-3ae5551a4c1f"
      },
      "execution_count": null,
      "outputs": [
        {
          "output_type": "stream",
          "name": "stdout",
          "text": [
            "pearson correlation test:\n",
            "correlation coefficient (r): 0.14064695254510517\n",
            "p-value : 9.197970126957359e-05\n",
            "not correlated(accepted Ha)\n"
          ]
        }
      ]
    },
    {
      "cell_type": "code",
      "source": [
        "df7\n",
        "df8\n",
        "\n",
        "r,p=pearsonr(df7,df8)\n",
        "\n",
        "print(\"pearson correlation test:\")\n",
        "print(\"correlation coefficient (r):\",r)\n",
        "print(\"p-value :\",p)\n",
        "if p > 0.05:\n",
        "  print(\"correlated (accepted H0)\")\n",
        "else:\n",
        "  print(\"not correlated(accepted Ha)\")"
      ],
      "metadata": {
        "colab": {
          "base_uri": "https://localhost:8080/"
        },
        "id": "0FUA_x_ApvJA",
        "outputId": "cae737ca-7702-4546-ba9d-61177aa1581e"
      },
      "execution_count": null,
      "outputs": [
        {
          "output_type": "stream",
          "name": "stdout",
          "text": [
            "pearson correlation test:\n",
            "correlation coefficient (r): 0.03356131243480553\n",
            "p-value : 0.3529797336668882\n",
            "correlated (accepted H0)\n"
          ]
        }
      ]
    },
    {
      "cell_type": "code",
      "source": [
        "df7\n",
        "df9\n",
        "\n",
        "r,p=pearsonr(df7,df9)\n",
        "\n",
        "print(\"pearson correlation test:\")\n",
        "print(\"correlation coefficient (r):\",r)\n",
        "print(\"p-value :\",p)\n",
        "if p > 0.05:\n",
        "  print(\"correlated (accepted H0)\")\n",
        "else:\n",
        "  print(\"not correlated(accepted Ha)\")"
      ],
      "metadata": {
        "colab": {
          "base_uri": "https://localhost:8080/"
        },
        "id": "gIyKG9t9p0kM",
        "outputId": "0d62ae57-af9d-4a77-9af9-13f124ed6078"
      },
      "execution_count": null,
      "outputs": [
        {
          "output_type": "stream",
          "name": "stdout",
          "text": [
            "pearson correlation test:\n",
            "correlation coefficient (r): 0.17384406565296007\n",
            "p-value : 1.2546070101487771e-06\n",
            "not correlated(accepted Ha)\n"
          ]
        }
      ]
    },
    {
      "cell_type": "code",
      "source": [
        "sum_xy=(df5*df7).sum()\n",
        "sum_xy"
      ],
      "metadata": {
        "colab": {
          "base_uri": "https://localhost:8080/"
        },
        "id": "u0_iKTb6p4NQ",
        "outputId": "17334e7f-6aca-4108-8a21-bd4b59d88451"
      },
      "execution_count": null,
      "outputs": [
        {
          "output_type": "execute_result",
          "data": {
            "text/plain": [
              "34339.555"
            ]
          },
          "metadata": {},
          "execution_count": 37
        }
      ]
    },
    {
      "cell_type": "code",
      "source": [
        "sum_x=df5.sum()\n",
        "sum_x"
      ],
      "metadata": {
        "colab": {
          "base_uri": "https://localhost:8080/"
        },
        "id": "EdTjhQTOrzzZ",
        "outputId": "9fdb7fdc-5d58-49e1-ef08-2e878abf0db7"
      },
      "execution_count": null,
      "outputs": [
        {
          "output_type": "execute_result",
          "data": {
            "text/plain": [
              "61286"
            ]
          },
          "metadata": {},
          "execution_count": 38
        }
      ]
    },
    {
      "cell_type": "code",
      "source": [
        "sum_y=df7.sum()\n",
        "sum_y"
      ],
      "metadata": {
        "colab": {
          "base_uri": "https://localhost:8080/"
        },
        "id": "061nqTG1sODV",
        "outputId": "c23ea2be-bd36-4103-b472-3413acaa55a6"
      },
      "execution_count": null,
      "outputs": [
        {
          "output_type": "execute_result",
          "data": {
            "text/plain": [
              "362.40099999999995"
            ]
          },
          "metadata": {},
          "execution_count": 39
        }
      ]
    },
    {
      "cell_type": "code",
      "source": [
        "s=sum_x*sum_y\n",
        "s"
      ],
      "metadata": {
        "colab": {
          "base_uri": "https://localhost:8080/"
        },
        "id": "mzfhuoq4sS_7",
        "outputId": "90c76c70-8306-427d-a6f2-031caa397ced"
      },
      "execution_count": null,
      "outputs": [
        {
          "output_type": "execute_result",
          "data": {
            "text/plain": [
              "22210107.685999997"
            ]
          },
          "metadata": {},
          "execution_count": 40
        }
      ]
    },
    {
      "cell_type": "code",
      "source": [
        "x_squre=(df5**2).sum()\n",
        "x_squre"
      ],
      "metadata": {
        "colab": {
          "base_uri": "https://localhost:8080/"
        },
        "id": "NRR6Xmc-sXZX",
        "outputId": "61eecfc4-e14b-4072-812d-d5a640b6bf34"
      },
      "execution_count": null,
      "outputs": [
        {
          "output_type": "execute_result",
          "data": {
            "text/plain": [
              "15077256"
            ]
          },
          "metadata": {},
          "execution_count": 41
        }
      ]
    },
    {
      "cell_type": "code",
      "source": [
        "squre=(sum_x)**2\n",
        "squre"
      ],
      "metadata": {
        "colab": {
          "base_uri": "https://localhost:8080/"
        },
        "id": "mZS7IS_5seVr",
        "outputId": "5989b514-e5ec-4579-8078-20c9cbbb935b"
      },
      "execution_count": null,
      "outputs": [
        {
          "output_type": "execute_result",
          "data": {
            "text/plain": [
              "3755973796"
            ]
          },
          "metadata": {},
          "execution_count": 42
        }
      ]
    },
    {
      "cell_type": "code",
      "source": [
        "n=len(df)\n",
        "n"
      ],
      "metadata": {
        "colab": {
          "base_uri": "https://localhost:8080/"
        },
        "id": "wWQ5W10dsidl",
        "outputId": "a4bd24d0-b4d4-4332-9f8c-4fee6f60b096"
      },
      "execution_count": null,
      "outputs": [
        {
          "output_type": "execute_result",
          "data": {
            "text/plain": [
              "768"
            ]
          },
          "metadata": {},
          "execution_count": 43
        }
      ]
    },
    {
      "cell_type": "code",
      "source": [
        "a=n*sum_xy\n",
        "a"
      ],
      "metadata": {
        "colab": {
          "base_uri": "https://localhost:8080/"
        },
        "id": "kwQ-VFSisnz8",
        "outputId": "5d606fa3-d669-4905-bdc0-215888d7484f"
      },
      "execution_count": null,
      "outputs": [
        {
          "output_type": "execute_result",
          "data": {
            "text/plain": [
              "26372778.240000002"
            ]
          },
          "metadata": {},
          "execution_count": 44
        }
      ]
    },
    {
      "cell_type": "code",
      "source": [
        "b=n*x_squre\n",
        "b"
      ],
      "metadata": {
        "colab": {
          "base_uri": "https://localhost:8080/"
        },
        "id": "fsHcB9K3sr9S",
        "outputId": "28b40d52-6048-4908-9b73-9a95a01a5ce7"
      },
      "execution_count": null,
      "outputs": [
        {
          "output_type": "execute_result",
          "data": {
            "text/plain": [
              "11579332608"
            ]
          },
          "metadata": {},
          "execution_count": 45
        }
      ]
    },
    {
      "cell_type": "code",
      "source": [
        "slope=(a-s)/(b-squre)\n",
        "slope"
      ],
      "metadata": {
        "colab": {
          "base_uri": "https://localhost:8080/"
        },
        "id": "awu3-ceTsvKQ",
        "outputId": "8cd93c45-8e3f-4eb2-c9af-73582685ffe2"
      },
      "execution_count": null,
      "outputs": [
        {
          "output_type": "execute_result",
          "data": {
            "text/plain": [
              "0.0005320822748938753"
            ]
          },
          "metadata": {},
          "execution_count": 47
        }
      ]
    },
    {
      "cell_type": "code",
      "source": [
        "intercept=(sum_y-(slope*sum_x))/n\n",
        "intercept"
      ],
      "metadata": {
        "colab": {
          "base_uri": "https://localhost:8080/"
        },
        "id": "WTJfNokBsybS",
        "outputId": "32283e40-cb4d-445e-89a6-d045c0f94be7"
      },
      "execution_count": null,
      "outputs": [
        {
          "output_type": "execute_result",
          "data": {
            "text/plain": [
              "0.42941641367298683"
            ]
          },
          "metadata": {},
          "execution_count": 48
        }
      ]
    },
    {
      "cell_type": "code",
      "source": [
        "# Regression equation\n",
        "y=slope*df5+intercept\n",
        "y"
      ],
      "metadata": {
        "colab": {
          "base_uri": "https://localhost:8080/",
          "height": 458
        },
        "id": "e1Yh1y6-s93R",
        "outputId": "18feaec7-6b19-452e-8055-d3bc66fd1676"
      },
      "execution_count": null,
      "outputs": [
        {
          "output_type": "execute_result",
          "data": {
            "text/plain": [
              "0      0.429416\n",
              "1      0.429416\n",
              "2      0.429416\n",
              "3      0.479432\n",
              "4      0.518806\n",
              "         ...   \n",
              "763    0.525191\n",
              "764    0.429416\n",
              "765    0.489010\n",
              "766    0.429416\n",
              "767    0.429416\n",
              "Name: Insulin, Length: 768, dtype: float64"
            ],
            "text/html": [
              "<div>\n",
              "<style scoped>\n",
              "    .dataframe tbody tr th:only-of-type {\n",
              "        vertical-align: middle;\n",
              "    }\n",
              "\n",
              "    .dataframe tbody tr th {\n",
              "        vertical-align: top;\n",
              "    }\n",
              "\n",
              "    .dataframe thead th {\n",
              "        text-align: right;\n",
              "    }\n",
              "</style>\n",
              "<table border=\"1\" class=\"dataframe\">\n",
              "  <thead>\n",
              "    <tr style=\"text-align: right;\">\n",
              "      <th></th>\n",
              "      <th>Insulin</th>\n",
              "    </tr>\n",
              "  </thead>\n",
              "  <tbody>\n",
              "    <tr>\n",
              "      <th>0</th>\n",
              "      <td>0.429416</td>\n",
              "    </tr>\n",
              "    <tr>\n",
              "      <th>1</th>\n",
              "      <td>0.429416</td>\n",
              "    </tr>\n",
              "    <tr>\n",
              "      <th>2</th>\n",
              "      <td>0.429416</td>\n",
              "    </tr>\n",
              "    <tr>\n",
              "      <th>3</th>\n",
              "      <td>0.479432</td>\n",
              "    </tr>\n",
              "    <tr>\n",
              "      <th>4</th>\n",
              "      <td>0.518806</td>\n",
              "    </tr>\n",
              "    <tr>\n",
              "      <th>...</th>\n",
              "      <td>...</td>\n",
              "    </tr>\n",
              "    <tr>\n",
              "      <th>763</th>\n",
              "      <td>0.525191</td>\n",
              "    </tr>\n",
              "    <tr>\n",
              "      <th>764</th>\n",
              "      <td>0.429416</td>\n",
              "    </tr>\n",
              "    <tr>\n",
              "      <th>765</th>\n",
              "      <td>0.489010</td>\n",
              "    </tr>\n",
              "    <tr>\n",
              "      <th>766</th>\n",
              "      <td>0.429416</td>\n",
              "    </tr>\n",
              "    <tr>\n",
              "      <th>767</th>\n",
              "      <td>0.429416</td>\n",
              "    </tr>\n",
              "  </tbody>\n",
              "</table>\n",
              "<p>768 rows × 1 columns</p>\n",
              "</div><br><label><b>dtype:</b> float64</label>"
            ]
          },
          "metadata": {},
          "execution_count": 49
        }
      ]
    },
    {
      "cell_type": "code",
      "source": [],
      "metadata": {
        "id": "GmUASozntDb7"
      },
      "execution_count": null,
      "outputs": []
    }
  ]
}